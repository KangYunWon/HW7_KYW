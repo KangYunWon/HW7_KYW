{
 "cells": [
  {
   "cell_type": "code",
   "execution_count": 19,
   "id": "2f109b72",
   "metadata": {},
   "outputs": [
    {
     "name": "stdout",
     "output_type": "stream",
     "text": [
      "        unit price  number\n",
      "store1        1000      25\n",
      "store2         280     120\n",
      "store3         900      30\n",
      "\n",
      "        unit price  number  total price\n",
      "store1        1000      25        25000\n",
      "store2         280     120        33600\n",
      "store3         900      30        27000\n",
      "\n",
      "        unit price  number  total price\n",
      "store2         280     120        33600\n",
      "store3         900      30        27000\n"
     ]
    }
   ],
   "source": [
    "import pandas as pd\n",
    "\n",
    "df = pd.DataFrame({'unit price':[1000,280,900], 'number':[25,120,30]}, index=['store1','store2','store3'])\n",
    "print(df, end=\"\\n\\n\") #가독성을 위해 줄바꿈 2번\n",
    "\n",
    "df2 = df\n",
    "df2['total price'] = df.prod(axis=1) #unit price와 number을 곱을 sum에 저장\n",
    "print(df2, end=\"\\n\\n\") #가독성을 위해 줄바꿈 2번\n",
    "\n",
    "df3 = df2.sort_values(by=\"total price\", ascending=False) #total price를 기준으로 내림차순 정렬\n",
    "print(df3.head(2)) #앞에서 부터 2번째 행까지만 출력"
   ]
  }
 ],
 "metadata": {
  "kernelspec": {
   "display_name": "Python 3 (ipykernel)",
   "language": "python",
   "name": "python3"
  },
  "language_info": {
   "codemirror_mode": {
    "name": "ipython",
    "version": 3
   },
   "file_extension": ".py",
   "mimetype": "text/x-python",
   "name": "python",
   "nbconvert_exporter": "python",
   "pygments_lexer": "ipython3",
   "version": "3.9.13"
  }
 },
 "nbformat": 4,
 "nbformat_minor": 5
}

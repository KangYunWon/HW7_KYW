{
 "cells": [
  {
   "cell_type": "code",
   "execution_count": 20,
   "id": "3c396bb1",
   "metadata": {},
   "outputs": [
    {
     "name": "stdout",
     "output_type": "stream",
     "text": [
      "Eigenvalues:\n",
      " [-0.37228132  5.37228132]\n",
      "\n",
      "Eigenvectors:\n",
      " [[-0.82456484 -0.41597356]\n",
      " [ 0.56576746 -0.90937671]]\n",
      "\n",
      "Determinant:\n",
      " -2.0000000000000004\n",
      "\n",
      "Cross product:\n",
      " [-3  6 -3]\n",
      "\n",
      "Solution:\n",
      " [[-1.]\n",
      " [-4.]\n",
      " [ 3.]]\n"
     ]
    }
   ],
   "source": [
    "import numpy as np\n",
    "\n",
    "#arr = np.arange(1,5).reshape(2,2)\n",
    "arr = np.array([[1,2],[3,4]])\n",
    "vec1 = np.array([1,2,3])\n",
    "vec2 = np.array([4,5,6])\n",
    "A = np.array([[1,2,-2],[2,1,-5],[1,-4,1]])\n",
    "b = np.array([[-15],[-21],[18]])\n",
    "\n",
    "eigval, eigvec = np.linalg.eig(arr)\n",
    "det = np.linalg.det(arr)\n",
    "cross = np.cross(vec1, vec2)\n",
    "x = np.linalg.solve(A, b)\n",
    "\n",
    "print(\"Eigenvalues:\\n\", eigval, end=\"\\n\\n\")\n",
    "print(\"Eigenvectors:\\n\", eigvec, end=\"\\n\\n\")\n",
    "print(\"Determinant:\\n\", det, end=\"\\n\\n\")\n",
    "print(\"Cross product:\\n\", cross, end=\"\\n\\n\")\n",
    "print(\"Solution:\\n\", x)"
   ]
  }
 ],
 "metadata": {
  "kernelspec": {
   "display_name": "Python 3 (ipykernel)",
   "language": "python",
   "name": "python3"
  },
  "language_info": {
   "codemirror_mode": {
    "name": "ipython",
    "version": 3
   },
   "file_extension": ".py",
   "mimetype": "text/x-python",
   "name": "python",
   "nbconvert_exporter": "python",
   "pygments_lexer": "ipython3",
   "version": "3.9.13"
  }
 },
 "nbformat": 4,
 "nbformat_minor": 5
}

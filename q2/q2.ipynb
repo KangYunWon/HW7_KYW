{
 "cells": [
  {
   "cell_type": "code",
   "execution_count": 13,
   "id": "4a6dd7cd",
   "metadata": {},
   "outputs": [
    {
     "name": "stdout",
     "output_type": "stream",
     "text": [
      "doc1 = 0.58\n",
      "doc2 = 0.87\n",
      "doc3 = 0.67\n"
     ]
    }
   ],
   "source": [
    "import numpy as np\n",
    "\n",
    "Docs = np.array([[1,1,0,1,0,1],[1,1,1,0,1,0],[1,1,0,1,0,0]])\n",
    "Query = np.array([1,1,0,0,1,0])\n",
    "coss=[0] * 3 # Cosine Similiarity 저장용 배열\n",
    "\n",
    "for i in range(3):\n",
    "    coss[i] = np.dot(Docs[i], Query)/(np.linalg.norm(Docs[i]*np.linalg.norm(Query)))\n",
    "    print(\"doc{0} = {1}\".format(i+1, round(coss[i], 2)))"
   ]
  }
 ],
 "metadata": {
  "kernelspec": {
   "display_name": "Python 3 (ipykernel)",
   "language": "python",
   "name": "python3"
  },
  "language_info": {
   "codemirror_mode": {
    "name": "ipython",
    "version": 3
   },
   "file_extension": ".py",
   "mimetype": "text/x-python",
   "name": "python",
   "nbconvert_exporter": "python",
   "pygments_lexer": "ipython3",
   "version": "3.9.13"
  }
 },
 "nbformat": 4,
 "nbformat_minor": 5
}
